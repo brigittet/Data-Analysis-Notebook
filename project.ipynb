{
 "cells": [
  {
   "cell_type": "markdown",
   "metadata": {},
   "source": [
    "# Animal Crossing New Horizons Accessories"
   ]
  },
  {
   "cell_type": "code",
   "execution_count": 1,
   "metadata": {},
   "outputs": [],
   "source": [
    "import pandas as pd\n",
    "import numpy as np\n",
    "import matplotlib.pyplot as plt\n",
    "import matplotlib.patches as mp\n",
    "import seaborn as sns"
   ]
  },
  {
   "cell_type": "code",
   "execution_count": 2,
   "metadata": {},
   "outputs": [],
   "source": [
    "accessories = pd.read_csv('accessories.csv')"
   ]
  },
  {
   "cell_type": "markdown",
   "metadata": {},
   "source": [
    "### Cleaning/EDA"
   ]
  },
  {
   "cell_type": "code",
   "execution_count": 3,
   "metadata": {},
   "outputs": [
    {
     "name": "stdout",
     "output_type": "stream",
     "text": [
      "<class 'pandas.core.frame.DataFrame'>\n",
      "RangeIndex: 222 entries, 0 to 221\n",
      "Data columns (total 22 columns):\n",
      " #   Column                 Non-Null Count  Dtype  \n",
      "---  ------                 --------------  -----  \n",
      " 0   Name                   222 non-null    object \n",
      " 1   Variation              222 non-null    object \n",
      " 2   DIY                    222 non-null    object \n",
      " 3   Buy                    222 non-null    object \n",
      " 4   Sell                   222 non-null    int64  \n",
      " 5   Color 1                222 non-null    object \n",
      " 6   Color 2                222 non-null    object \n",
      " 7   Size                   222 non-null    object \n",
      " 8   Miles Price            1 non-null      float64\n",
      " 9   Source                 222 non-null    object \n",
      " 10  Source Notes           206 non-null    object \n",
      " 11  Seasonal Availability  222 non-null    object \n",
      " 12  Mannequin Piece        222 non-null    object \n",
      " 13  Version                222 non-null    object \n",
      " 14  Style                  222 non-null    object \n",
      " 15  Label Themes           222 non-null    object \n",
      " 16  Type                   222 non-null    object \n",
      " 17  Villager Equippable    222 non-null    object \n",
      " 18  Catalog                222 non-null    object \n",
      " 19  Filename               222 non-null    object \n",
      " 20  Internal ID            222 non-null    int64  \n",
      " 21  Unique Entry ID        222 non-null    object \n",
      "dtypes: float64(1), int64(2), object(19)\n",
      "memory usage: 38.3+ KB\n"
     ]
    }
   ],
   "source": [
    "accessories.info()"
   ]
  },
  {
   "cell_type": "markdown",
   "metadata": {},
   "source": [
    "Changing Buy column to numeric"
   ]
  },
  {
   "cell_type": "code",
   "execution_count": 4,
   "metadata": {},
   "outputs": [],
   "source": [
    "accessories.Buy.replace(\"NFS\", np.nan, inplace=True)\n",
    "accessories.Buy = pd.to_numeric(accessories.Buy)"
   ]
  },
  {
   "cell_type": "code",
   "execution_count": 5,
   "metadata": {},
   "outputs": [
    {
     "name": "stdout",
     "output_type": "stream",
     "text": [
      "<class 'pandas.core.frame.DataFrame'>\n",
      "RangeIndex: 222 entries, 0 to 221\n",
      "Data columns (total 22 columns):\n",
      " #   Column                 Non-Null Count  Dtype  \n",
      "---  ------                 --------------  -----  \n",
      " 0   Name                   222 non-null    object \n",
      " 1   Variation              222 non-null    object \n",
      " 2   DIY                    222 non-null    object \n",
      " 3   Buy                    210 non-null    float64\n",
      " 4   Sell                   222 non-null    int64  \n",
      " 5   Color 1                222 non-null    object \n",
      " 6   Color 2                222 non-null    object \n",
      " 7   Size                   222 non-null    object \n",
      " 8   Miles Price            1 non-null      float64\n",
      " 9   Source                 222 non-null    object \n",
      " 10  Source Notes           206 non-null    object \n",
      " 11  Seasonal Availability  222 non-null    object \n",
      " 12  Mannequin Piece        222 non-null    object \n",
      " 13  Version                222 non-null    object \n",
      " 14  Style                  222 non-null    object \n",
      " 15  Label Themes           222 non-null    object \n",
      " 16  Type                   222 non-null    object \n",
      " 17  Villager Equippable    222 non-null    object \n",
      " 18  Catalog                222 non-null    object \n",
      " 19  Filename               222 non-null    object \n",
      " 20  Internal ID            222 non-null    int64  \n",
      " 21  Unique Entry ID        222 non-null    object \n",
      "dtypes: float64(2), int64(2), object(18)\n",
      "memory usage: 38.3+ KB\n"
     ]
    }
   ],
   "source": [
    "accessories.info()"
   ]
  },
  {
   "cell_type": "code",
   "execution_count": 6,
   "metadata": {},
   "outputs": [
    {
     "data": {
      "text/plain": [
       "Index(['Name', 'Variation', 'DIY', 'Buy', 'Sell', 'Color 1', 'Color 2', 'Size',\n",
       "       'Miles Price', 'Source', 'Source Notes', 'Seasonal Availability',\n",
       "       'Mannequin Piece', 'Version', 'Style', 'Label Themes', 'Type',\n",
       "       'Villager Equippable', 'Catalog', 'Filename', 'Internal ID',\n",
       "       'Unique Entry ID'],\n",
       "      dtype='object')"
      ]
     },
     "execution_count": 6,
     "metadata": {},
     "output_type": "execute_result"
    }
   ],
   "source": [
    "accessories.columns"
   ]
  },
  {
   "cell_type": "markdown",
   "metadata": {},
   "source": [
    "Dropping columns that don't provide information"
   ]
  },
  {
   "cell_type": "code",
   "execution_count": 7,
   "metadata": {},
   "outputs": [],
   "source": [
    "accessories.drop(\"Miles Price\", axis=1, inplace = True)\n",
    "accessories.drop(\"Size\", axis=1, inplace = True)\n",
    "accessories.drop(\"DIY\", axis=1, inplace = True)\n",
    "accessories.drop(\"Version\", axis=1, inplace = True)"
   ]
  },
  {
   "cell_type": "code",
   "execution_count": 8,
   "metadata": {},
   "outputs": [
    {
     "data": {
      "text/plain": [
       "Index(['Name', 'Variation', 'Buy', 'Sell', 'Color 1', 'Color 2', 'Source',\n",
       "       'Source Notes', 'Seasonal Availability', 'Mannequin Piece', 'Style',\n",
       "       'Label Themes', 'Type', 'Villager Equippable', 'Catalog', 'Filename',\n",
       "       'Internal ID', 'Unique Entry ID'],\n",
       "      dtype='object')"
      ]
     },
     "execution_count": 8,
     "metadata": {},
     "output_type": "execute_result"
    }
   ],
   "source": [
    "accessories.columns"
   ]
  },
  {
   "cell_type": "markdown",
   "metadata": {},
   "source": [
    "### Visualizations"
   ]
  },
  {
   "cell_type": "code",
   "execution_count": 9,
   "metadata": {},
   "outputs": [
    {
     "data": {
      "text/plain": [
       "[Text(0.5, 0, 'Buying Price'),\n",
       " Text(0, 0.5, 'Selling Price'),\n",
       " Text(0.5, 1.0, 'Correlation Between Prices of Animal Crossing Accessories')]"
      ]
     },
     "execution_count": 9,
     "metadata": {},
     "output_type": "execute_result"
    },
    {
     "data": {
      "image/png": "[encoded data removed]",
      "text/plain": [
       "<Figure size 576x576 with 1 Axes>"
      ]
     },
     "metadata": {
      "needs_background": "light"
     },
     "output_type": "display_data"
    }
   ],
   "source": [
    "plt.figure(figsize=(8,8))\n",
    "sns.lineplot(x='Buy', y='Sell', data=accessories).set(xlabel='Buying Price', ylabel='Selling Price', title='Correlation Between Prices of Animal Crossing Accessories')"
   ]
  },
  {
   "cell_type": "code",
   "execution_count": 10,
   "metadata": {},
   "outputs": [
    {
     "data": {
      "text/plain": [
       "[Text(0.5, 0, 'Type'),\n",
       " Text(0, 0.5, 'Buying Price'),\n",
       " Text(0.5, 1.0, 'Buying Price by Type')]"
      ]
     },
     "execution_count": 10,
     "metadata": {},
     "output_type": "execute_result"
    },
    {
     "data": {
      "image/png": "[encoded data removed]",
      "text/plain": [
       "<Figure size 1008x576 with 1 Axes>"
      ]
     },
     "metadata": {
      "needs_background": "light"
     },
     "output_type": "display_data"
    }
   ],
   "source": [
    "plt.figure(figsize=(14,8))\n",
    "sns.barplot(x='Type', y='Buy', data=accessories, ci=None).set(xlabel='Type', ylabel='Buying Price', title='Buying Price by Type')"
   ]
  },
  {
   "cell_type": "code",
   "execution_count": 11,
   "metadata": {},
   "outputs": [
    {
     "data": {
      "text/plain": [
       "[Text(0, 0.5, 'Selling Price'), Text(0.5, 1.0, 'Selling Price by Style')]"
      ]
     },
     "execution_count": 11,
     "metadata": {},
     "output_type": "execute_result"
    },
    {
     "data": {
      "image/png": "[encoded data removed]",
      "text/plain": [
       "<Figure size 576x432 with 1 Axes>"
      ]
     },
     "metadata": {
      "needs_background": "light"
     },
     "output_type": "display_data"
    }
   ],
   "source": [
    "plt.figure(figsize=(8,6))\n",
    "sns.scatterplot(x='Style', y='Sell', data=accessories).set(ylabel='Selling Price', title='Selling Price by Style')"
   ]
  },
  {
   "cell_type": "code",
   "execution_count": 12,
   "metadata": {},
   "outputs": [
    {
     "data": {
      "text/plain": [
       "[Text(0.5, 1.0, 'Style and Variation of Accessories')]"
      ]
     },
     "execution_count": 12,
     "metadata": {},
     "output_type": "execute_result"
    },
    {
     "data": {
      "image/png": "[encoded data removed]",
      "text/plain": [
       "<Figure size 864x576 with 1 Axes>"
      ]
     },
     "metadata": {
      "needs_background": "light"
     },
     "output_type": "display_data"
    }
   ],
   "source": [
    "plt.figure(figsize=(12,8))\n",
    "sns.scatterplot(x='Style', y='Variation', data=accessories, ci=None).set(title='Style and Variation of Accessories')"
   ]
  },
  {
   "cell_type": "markdown",
   "metadata": {},
   "source": [
    "### Analysis"
   ]
  },
  {
   "cell_type": "markdown",
   "metadata": {},
   "source": [
    "What is the average buying price for black glasses?"
   ]
  },
  {
   "cell_type": "code",
   "execution_count": 13,
   "metadata": {},
   "outputs": [
    {
     "data": {
      "text/plain": [
       "887.7777777777778"
      ]
     },
     "execution_count": 13,
     "metadata": {},
     "output_type": "execute_result"
    }
   ],
   "source": [
    "accessories[(accessories.Name.str.contains('glasses')) & (accessories.Variation == 'Black')].Buy.mean()"
   ]
  },
  {
   "cell_type": "markdown",
   "metadata": {},
   "source": [
    "For items costing more than 1000 bells, what is the most common style?"
   ]
  },
  {
   "cell_type": "code",
   "execution_count": 14,
   "metadata": {},
   "outputs": [
    {
     "data": {
      "text/plain": [
       "Cool        28\n",
       "Simple      17\n",
       "Elegant     14\n",
       "Cute        13\n",
       "Active      12\n",
       "Gorgeous    11\n",
       "Name: Style, dtype: int64"
      ]
     },
     "execution_count": 14,
     "metadata": {},
     "output_type": "execute_result"
    }
   ],
   "source": [
    "accessories[accessories.Buy > 1000].Style.value_counts()"
   ]
  },
  {
   "cell_type": "markdown",
   "metadata": {},
   "source": [
    "What is the average selling price for items availible during the Winter vs during the Summer?"
   ]
  },
  {
   "cell_type": "code",
   "execution_count": 15,
   "metadata": {},
   "outputs": [
    {
     "data": {
      "text/plain": [
       "Seasonal Availability\n",
       "Summer    140.0\n",
       "Winter    245.0\n",
       "Name: Sell, dtype: float64"
      ]
     },
     "execution_count": 15,
     "metadata": {},
     "output_type": "execute_result"
    }
   ],
   "source": [
    "accessories[(accessories['Seasonal Availability'] == 'Summer') | (accessories['Seasonal Availability'] == 'Winter')].groupby('Seasonal Availability').Sell.mean()"
   ]
  },
  {
   "cell_type": "markdown",
   "metadata": {},
   "source": [
    "For mannequin pieces that are villager equippable, what is the name and selling price?"
   ]
  },
  {
   "cell_type": "code",
   "execution_count": 16,
   "metadata": {},
   "outputs": [
    {
     "data": {
      "text/plain": [
       "Name                   Sell\n",
       "bottom-rimmed glasses  275     [bottom-rimmed glasses]\n",
       "browline glasses       260          [browline glasses]\n",
       "butterfly shades       260          [butterfly shades]\n",
       "double-bridge glasses  275     [double-bridge glasses]\n",
       "flower sunglasses      192         [flower sunglasses]\n",
       "heart shades           260              [heart shades]\n",
       "ladder shades          220             [ladder shades]\n",
       "monocle                275                   [monocle]\n",
       "octagonal glasses      275         [octagonal glasses]\n",
       "oval glasses           220              [oval glasses]\n",
       "pilot shades           325              [pilot shades]\n",
       "pixel shades           330              [pixel shades]\n",
       "retro shades           390              [retro shades]\n",
       "rimmed glasses         157            [rimmed glasses]\n",
       "round shades           390              [round shades]\n",
       "round tinted shades    220       [round tinted shades]\n",
       "ski goggles            245               [ski goggles]\n",
       "square glasses         220            [square glasses]\n",
       "star shades            220               [star shades]\n",
       "tiny shades            275               [tiny shades]\n",
       "tortoise specs         260            [tortoise specs]\n",
       "wooden-frame glasses   390      [wooden-frame glasses]\n",
       "Name: Name, dtype: object"
      ]
     },
     "execution_count": 16,
     "metadata": {},
     "output_type": "execute_result"
    }
   ],
   "source": [
    "accessories[(accessories['Villager Equippable'] == 'Yes') & (accessories['Mannequin Piece'] == 'Yes')].groupby(['Name', 'Sell']).Name.unique()"
   ]
  },
  {
   "cell_type": "markdown",
   "metadata": {},
   "source": [
    "For eyewear whose style is 'elegant', how many are multicolored and what are those items?"
   ]
  },
  {
   "cell_type": "code",
   "execution_count": 17,
   "metadata": {},
   "outputs": [
    {
     "data": {
      "text/plain": [
       "array(['retro shades'], dtype=object)"
      ]
     },
     "execution_count": 17,
     "metadata": {},
     "output_type": "execute_result"
    }
   ],
   "source": [
    "accessories[(accessories['Type'] == 'AccessoryEye') & (accessories['Style'] == 'Elegant') & (accessories['Color 1'] != accessories['Color 2'])].Name.unique()"
   ]
  },
  {
   "cell_type": "markdown",
   "metadata": {},
   "source": [
    "Of the items that are considered formal, what is the style, main color, and buying price?"
   ]
  },
  {
   "cell_type": "code",
   "execution_count": 18,
   "metadata": {},
   "outputs": [
    {
     "data": {
      "text/html": [
       "<div>\n",
       "<style scoped>\n",
       "    .dataframe tbody tr th:only-of-type {\n",
       "        vertical-align: middle;\n",
       "    }\n",
       "\n",
       "    .dataframe tbody tr th {\n",
       "        vertical-align: top;\n",
       "    }\n",
       "\n",
       "    .dataframe thead th {\n",
       "        text-align: right;\n",
       "    }\n",
       "</style>\n",
       "<table border=\"1\" class=\"dataframe\">\n",
       "  <thead>\n",
       "    <tr style=\"text-align: right;\">\n",
       "      <th></th>\n",
       "      <th>Style</th>\n",
       "      <th>Color 1</th>\n",
       "      <th>Name</th>\n",
       "      <th>Buy</th>\n",
       "    </tr>\n",
       "  </thead>\n",
       "  <tbody>\n",
       "    <tr>\n",
       "      <th>15</th>\n",
       "      <td>Simple</td>\n",
       "      <td>Black</td>\n",
       "      <td>browline glasses</td>\n",
       "      <td>1040.0</td>\n",
       "    </tr>\n",
       "    <tr>\n",
       "      <th>16</th>\n",
       "      <td>Simple</td>\n",
       "      <td>Brown</td>\n",
       "      <td>browline glasses</td>\n",
       "      <td>1040.0</td>\n",
       "    </tr>\n",
       "    <tr>\n",
       "      <th>17</th>\n",
       "      <td>Simple</td>\n",
       "      <td>Green</td>\n",
       "      <td>browline glasses</td>\n",
       "      <td>1040.0</td>\n",
       "    </tr>\n",
       "    <tr>\n",
       "      <th>18</th>\n",
       "      <td>Simple</td>\n",
       "      <td>Gray</td>\n",
       "      <td>browline glasses</td>\n",
       "      <td>1040.0</td>\n",
       "    </tr>\n",
       "    <tr>\n",
       "      <th>30</th>\n",
       "      <td>Gorgeous</td>\n",
       "      <td>White</td>\n",
       "      <td>candy-skull mask</td>\n",
       "      <td>NaN</td>\n",
       "    </tr>\n",
       "    <tr>\n",
       "      <th>31</th>\n",
       "      <td>Gorgeous</td>\n",
       "      <td>White</td>\n",
       "      <td>candy-skull mask</td>\n",
       "      <td>NaN</td>\n",
       "    </tr>\n",
       "    <tr>\n",
       "      <th>32</th>\n",
       "      <td>Gorgeous</td>\n",
       "      <td>White</td>\n",
       "      <td>candy-skull mask</td>\n",
       "      <td>NaN</td>\n",
       "    </tr>\n",
       "    <tr>\n",
       "      <th>37</th>\n",
       "      <td>Simple</td>\n",
       "      <td>Colorful</td>\n",
       "      <td>curly mustache</td>\n",
       "      <td>700.0</td>\n",
       "    </tr>\n",
       "    <tr>\n",
       "      <th>86</th>\n",
       "      <td>Elegant</td>\n",
       "      <td>Colorful</td>\n",
       "      <td>handlebar mustache</td>\n",
       "      <td>1120.0</td>\n",
       "    </tr>\n",
       "    <tr>\n",
       "      <th>97</th>\n",
       "      <td>Gorgeous</td>\n",
       "      <td>Purple</td>\n",
       "      <td>Labelle sunglasses</td>\n",
       "      <td>2000.0</td>\n",
       "    </tr>\n",
       "    <tr>\n",
       "      <th>98</th>\n",
       "      <td>Gorgeous</td>\n",
       "      <td>Black</td>\n",
       "      <td>Labelle sunglasses</td>\n",
       "      <td>2000.0</td>\n",
       "    </tr>\n",
       "    <tr>\n",
       "      <th>99</th>\n",
       "      <td>Gorgeous</td>\n",
       "      <td>Red</td>\n",
       "      <td>Labelle sunglasses</td>\n",
       "      <td>2000.0</td>\n",
       "    </tr>\n",
       "    <tr>\n",
       "      <th>100</th>\n",
       "      <td>Gorgeous</td>\n",
       "      <td>Blue</td>\n",
       "      <td>Labelle sunglasses</td>\n",
       "      <td>2000.0</td>\n",
       "    </tr>\n",
       "    <tr>\n",
       "      <th>101</th>\n",
       "      <td>Gorgeous</td>\n",
       "      <td>Yellow</td>\n",
       "      <td>Labelle sunglasses</td>\n",
       "      <td>2000.0</td>\n",
       "    </tr>\n",
       "    <tr>\n",
       "      <th>102</th>\n",
       "      <td>Gorgeous</td>\n",
       "      <td>Pink</td>\n",
       "      <td>Labelle sunglasses</td>\n",
       "      <td>2000.0</td>\n",
       "    </tr>\n",
       "    <tr>\n",
       "      <th>116</th>\n",
       "      <td>Elegant</td>\n",
       "      <td>Black</td>\n",
       "      <td>monocle</td>\n",
       "      <td>1100.0</td>\n",
       "    </tr>\n",
       "    <tr>\n",
       "      <th>117</th>\n",
       "      <td>Elegant</td>\n",
       "      <td>Yellow</td>\n",
       "      <td>monocle</td>\n",
       "      <td>1100.0</td>\n",
       "    </tr>\n",
       "    <tr>\n",
       "      <th>118</th>\n",
       "      <td>Elegant</td>\n",
       "      <td>Gray</td>\n",
       "      <td>monocle</td>\n",
       "      <td>1100.0</td>\n",
       "    </tr>\n",
       "    <tr>\n",
       "      <th>162</th>\n",
       "      <td>Elegant</td>\n",
       "      <td>Black</td>\n",
       "      <td>rimmed glasses</td>\n",
       "      <td>630.0</td>\n",
       "    </tr>\n",
       "    <tr>\n",
       "      <th>163</th>\n",
       "      <td>Elegant</td>\n",
       "      <td>Yellow</td>\n",
       "      <td>rimmed glasses</td>\n",
       "      <td>630.0</td>\n",
       "    </tr>\n",
       "    <tr>\n",
       "      <th>164</th>\n",
       "      <td>Elegant</td>\n",
       "      <td>Gray</td>\n",
       "      <td>rimmed glasses</td>\n",
       "      <td>630.0</td>\n",
       "    </tr>\n",
       "    <tr>\n",
       "      <th>165</th>\n",
       "      <td>Elegant</td>\n",
       "      <td>Brown</td>\n",
       "      <td>rimmed glasses</td>\n",
       "      <td>630.0</td>\n",
       "    </tr>\n",
       "    <tr>\n",
       "      <th>166</th>\n",
       "      <td>Elegant</td>\n",
       "      <td>Purple</td>\n",
       "      <td>rimmed glasses</td>\n",
       "      <td>630.0</td>\n",
       "    </tr>\n",
       "    <tr>\n",
       "      <th>175</th>\n",
       "      <td>Simple</td>\n",
       "      <td>Orange</td>\n",
       "      <td>round tinted shades</td>\n",
       "      <td>880.0</td>\n",
       "    </tr>\n",
       "    <tr>\n",
       "      <th>176</th>\n",
       "      <td>Simple</td>\n",
       "      <td>Orange</td>\n",
       "      <td>round tinted shades</td>\n",
       "      <td>880.0</td>\n",
       "    </tr>\n",
       "    <tr>\n",
       "      <th>177</th>\n",
       "      <td>Simple</td>\n",
       "      <td>Brown</td>\n",
       "      <td>round tinted shades</td>\n",
       "      <td>880.0</td>\n",
       "    </tr>\n",
       "    <tr>\n",
       "      <th>178</th>\n",
       "      <td>Simple</td>\n",
       "      <td>Green</td>\n",
       "      <td>round tinted shades</td>\n",
       "      <td>880.0</td>\n",
       "    </tr>\n",
       "    <tr>\n",
       "      <th>192</th>\n",
       "      <td>Simple</td>\n",
       "      <td>Brown</td>\n",
       "      <td>square glasses</td>\n",
       "      <td>880.0</td>\n",
       "    </tr>\n",
       "    <tr>\n",
       "      <th>193</th>\n",
       "      <td>Simple</td>\n",
       "      <td>Black</td>\n",
       "      <td>square glasses</td>\n",
       "      <td>880.0</td>\n",
       "    </tr>\n",
       "    <tr>\n",
       "      <th>194</th>\n",
       "      <td>Simple</td>\n",
       "      <td>Gray</td>\n",
       "      <td>square glasses</td>\n",
       "      <td>880.0</td>\n",
       "    </tr>\n",
       "    <tr>\n",
       "      <th>195</th>\n",
       "      <td>Simple</td>\n",
       "      <td>Blue</td>\n",
       "      <td>square glasses</td>\n",
       "      <td>880.0</td>\n",
       "    </tr>\n",
       "    <tr>\n",
       "      <th>207</th>\n",
       "      <td>Cool</td>\n",
       "      <td>Yellow</td>\n",
       "      <td>tiny shades</td>\n",
       "      <td>1100.0</td>\n",
       "    </tr>\n",
       "    <tr>\n",
       "      <th>208</th>\n",
       "      <td>Cool</td>\n",
       "      <td>Black</td>\n",
       "      <td>tiny shades</td>\n",
       "      <td>1100.0</td>\n",
       "    </tr>\n",
       "    <tr>\n",
       "      <th>209</th>\n",
       "      <td>Cool</td>\n",
       "      <td>Red</td>\n",
       "      <td>tiny shades</td>\n",
       "      <td>1100.0</td>\n",
       "    </tr>\n",
       "    <tr>\n",
       "      <th>210</th>\n",
       "      <td>Simple</td>\n",
       "      <td>Brown</td>\n",
       "      <td>tortoise specs</td>\n",
       "      <td>1040.0</td>\n",
       "    </tr>\n",
       "    <tr>\n",
       "      <th>211</th>\n",
       "      <td>Simple</td>\n",
       "      <td>Orange</td>\n",
       "      <td>tortoise specs</td>\n",
       "      <td>1040.0</td>\n",
       "    </tr>\n",
       "    <tr>\n",
       "      <th>212</th>\n",
       "      <td>Simple</td>\n",
       "      <td>Black</td>\n",
       "      <td>tortoise specs</td>\n",
       "      <td>1040.0</td>\n",
       "    </tr>\n",
       "    <tr>\n",
       "      <th>220</th>\n",
       "      <td>Simple</td>\n",
       "      <td>Brown</td>\n",
       "      <td>wooden-frame glasses</td>\n",
       "      <td>1560.0</td>\n",
       "    </tr>\n",
       "    <tr>\n",
       "      <th>221</th>\n",
       "      <td>Simple</td>\n",
       "      <td>Brown</td>\n",
       "      <td>wooden-frame glasses</td>\n",
       "      <td>1560.0</td>\n",
       "    </tr>\n",
       "  </tbody>\n",
       "</table>\n",
       "</div>"
      ],
      "text/plain": [
       "        Style   Color 1                  Name     Buy\n",
       "15     Simple     Black      browline glasses  1040.0\n",
       "16     Simple     Brown      browline glasses  1040.0\n",
       "17     Simple     Green      browline glasses  1040.0\n",
       "18     Simple      Gray      browline glasses  1040.0\n",
       "30   Gorgeous     White      candy-skull mask     NaN\n",
       "31   Gorgeous     White      candy-skull mask     NaN\n",
       "32   Gorgeous     White      candy-skull mask     NaN\n",
       "37     Simple  Colorful        curly mustache   700.0\n",
       "86    Elegant  Colorful    handlebar mustache  1120.0\n",
       "97   Gorgeous    Purple    Labelle sunglasses  2000.0\n",
       "98   Gorgeous     Black    Labelle sunglasses  2000.0\n",
       "99   Gorgeous       Red    Labelle sunglasses  2000.0\n",
       "100  Gorgeous      Blue    Labelle sunglasses  2000.0\n",
       "101  Gorgeous    Yellow    Labelle sunglasses  2000.0\n",
       "102  Gorgeous      Pink    Labelle sunglasses  2000.0\n",
       "116   Elegant     Black               monocle  1100.0\n",
       "117   Elegant    Yellow               monocle  1100.0\n",
       "118   Elegant      Gray               monocle  1100.0\n",
       "162   Elegant     Black        rimmed glasses   630.0\n",
       "163   Elegant    Yellow        rimmed glasses   630.0\n",
       "164   Elegant      Gray        rimmed glasses   630.0\n",
       "165   Elegant     Brown        rimmed glasses   630.0\n",
       "166   Elegant    Purple        rimmed glasses   630.0\n",
       "175    Simple    Orange   round tinted shades   880.0\n",
       "176    Simple    Orange   round tinted shades   880.0\n",
       "177    Simple     Brown   round tinted shades   880.0\n",
       "178    Simple     Green   round tinted shades   880.0\n",
       "192    Simple     Brown        square glasses   880.0\n",
       "193    Simple     Black        square glasses   880.0\n",
       "194    Simple      Gray        square glasses   880.0\n",
       "195    Simple      Blue        square glasses   880.0\n",
       "207      Cool    Yellow           tiny shades  1100.0\n",
       "208      Cool     Black           tiny shades  1100.0\n",
       "209      Cool       Red           tiny shades  1100.0\n",
       "210    Simple     Brown        tortoise specs  1040.0\n",
       "211    Simple    Orange        tortoise specs  1040.0\n",
       "212    Simple     Black        tortoise specs  1040.0\n",
       "220    Simple     Brown  wooden-frame glasses  1560.0\n",
       "221    Simple     Brown  wooden-frame glasses  1560.0"
      ]
     },
     "execution_count": 18,
     "metadata": {},
     "output_type": "execute_result"
    }
   ],
   "source": [
    "accessories[accessories['Label Themes'].str.contains('formal')][['Style', 'Color 1', 'Name', 'Buy']]"
   ]
  },
  {
   "cell_type": "markdown",
   "metadata": {},
   "source": [
    "For each type of facial accessory that is not for sale, how many of each style and variation are there?"
   ]
  },
  {
   "cell_type": "code",
   "execution_count": 19,
   "metadata": {},
   "outputs": [
    {
     "data": {
      "text/plain": [
       "Type                            Style     Variation\n",
       "AccessoryEye                    Gorgeous  Yellow       2\n",
       "                                          Blue         1\n",
       "                                          Pink         1\n",
       "                                          Red          1\n",
       "                                Simple    Black        1\n",
       "                                          Blue         1\n",
       "                                          Green        1\n",
       "AccessoryEyeMouthInvisibleNose  Gorgeous  Blue         1\n",
       "                                          Orange       1\n",
       "                                          Purple       1\n",
       "AccessoryMouth                  Simple    Green        1\n",
       "dtype: int64"
      ]
     },
     "execution_count": 19,
     "metadata": {},
     "output_type": "execute_result"
    }
   ],
   "source": [
    "accessories[accessories['Catalog'] == 'Not for sale'].groupby('Type')[['Style', 'Variation']].value_counts()"
   ]
  },
  {
   "cell_type": "markdown",
   "metadata": {},
   "source": [
    "What are the minimum, median, and maximum selling prices for each style?"
   ]
  },
  {
   "cell_type": "code",
   "execution_count": 20,
   "metadata": {},
   "outputs": [
    {
     "data": {
      "text/html": [
       "<div>\n",
       "<style scoped>\n",
       "    .dataframe tbody tr th:only-of-type {\n",
       "        vertical-align: middle;\n",
       "    }\n",
       "\n",
       "    .dataframe tbody tr th {\n",
       "        vertical-align: top;\n",
       "    }\n",
       "\n",
       "    .dataframe thead th {\n",
       "        text-align: right;\n",
       "    }\n",
       "</style>\n",
       "<table border=\"1\" class=\"dataframe\">\n",
       "  <thead>\n",
       "    <tr style=\"text-align: right;\">\n",
       "      <th></th>\n",
       "      <th>min</th>\n",
       "      <th>median</th>\n",
       "      <th>max</th>\n",
       "    </tr>\n",
       "    <tr>\n",
       "      <th>Style</th>\n",
       "      <th></th>\n",
       "      <th></th>\n",
       "      <th></th>\n",
       "    </tr>\n",
       "  </thead>\n",
       "  <tbody>\n",
       "    <tr>\n",
       "      <th>Active</th>\n",
       "      <td>35</td>\n",
       "      <td>220.0</td>\n",
       "      <td>390</td>\n",
       "    </tr>\n",
       "    <tr>\n",
       "      <th>Cool</th>\n",
       "      <td>35</td>\n",
       "      <td>327.5</td>\n",
       "      <td>500</td>\n",
       "    </tr>\n",
       "    <tr>\n",
       "      <th>Cute</th>\n",
       "      <td>122</td>\n",
       "      <td>192.0</td>\n",
       "      <td>275</td>\n",
       "    </tr>\n",
       "    <tr>\n",
       "      <th>Elegant</th>\n",
       "      <td>157</td>\n",
       "      <td>275.0</td>\n",
       "      <td>390</td>\n",
       "    </tr>\n",
       "    <tr>\n",
       "      <th>Gorgeous</th>\n",
       "      <td>227</td>\n",
       "      <td>500.0</td>\n",
       "      <td>1010</td>\n",
       "    </tr>\n",
       "    <tr>\n",
       "      <th>Simple</th>\n",
       "      <td>10</td>\n",
       "      <td>220.0</td>\n",
       "      <td>2000</td>\n",
       "    </tr>\n",
       "  </tbody>\n",
       "</table>\n",
       "</div>"
      ],
      "text/plain": [
       "          min  median   max\n",
       "Style                      \n",
       "Active     35   220.0   390\n",
       "Cool       35   327.5   500\n",
       "Cute      122   192.0   275\n",
       "Elegant   157   275.0   390\n",
       "Gorgeous  227   500.0  1010\n",
       "Simple     10   220.0  2000"
      ]
     },
     "execution_count": 20,
     "metadata": {},
     "output_type": "execute_result"
    }
   ],
   "source": [
    "accessories.groupby('Style').Sell.agg([min, np.median, max])"
   ]
  }
 ],
 "metadata": {
  "kernelspec": {
   "display_name": "Python 3.9.12 ('base')",
   "language": "python",
   "name": "python3"
  },
  "language_info": {
   "codemirror_mode": {
    "name": "ipython",
    "version": 3
   },
   "file_extension": ".py",
   "mimetype": "text/x-python",
   "name": "python",
   "nbconvert_exporter": "python",
   "pygments_lexer": "ipython3",
   "version": "3.9.12"
  },
  "orig_nbformat": 4,
  "vscode": {
   "interpreter": {
    "hash": "ffc1d3e7c016eef074321c406cce116987914b7812b1f6a2a82a8b82a286476b"
   }
  }
 },
 "nbformat": 4,
 "nbformat_minor": 2
}
